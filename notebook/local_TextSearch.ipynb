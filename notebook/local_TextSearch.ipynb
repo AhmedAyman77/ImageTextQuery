{
 "cells": [
  {
   "cell_type": "code",
   "execution_count": 1,
   "metadata": {},
   "outputs": [],
   "source": [
    "import os\n",
    "import clip\n",
    "import json\n",
    "import spacy\n",
    "import torch\n",
    "import random\n",
    "import numpy as np\n",
    "import matplotlib.pyplot as plt\n",
    "import torch.nn.functional as F\n",
    "from PIL import Image\n",
    "from qdrant_client import QdrantClient\n",
    "from qdrant_client.models import Distance, VectorParams, PointStruct"
   ]
  },
  {
   "cell_type": "code",
   "execution_count": 16,
   "metadata": {},
   "outputs": [],
   "source": [
    "# d = []\n",
    "# with open(\"./data/description.json\", 'r') as f:\n",
    "#     description = json.load(f)\n",
    "\n",
    "#     for idx, item in enumerate(description):\n",
    "#         raw = {}\n",
    "#         raw['id'] = furniture[idx]['id']\n",
    "#         raw['description'] = item['description']\n",
    "#         d.append(raw)\n",
    "\n",
    "# with open(\"./data/description.json\", 'w') as f:\n",
    "#     json.dump(d, f, indent=4, ensure_ascii=False)"
   ]
  },
  {
   "cell_type": "code",
   "execution_count": 3,
   "metadata": {},
   "outputs": [],
   "source": [
    "os.chdir(\"../\")\n",
    "# os.getcwd()"
   ]
  },
  {
   "cell_type": "code",
   "execution_count": 4,
   "metadata": {},
   "outputs": [
    {
     "name": "stdout",
     "output_type": "stream",
     "text": [
      "{'id': '2df40e00-b627-4216-90a7-511918861a0f', 'name': 'KIVIK', 'description': '3-seat sofa, light beige', 'pictureUrl': 'https://www.ikea.com/in/en/images/products/kivik-3-seat-sofa-tresund-light-beige__1124111_pe875024_s5.jpg?f=u', 'furnitureModel': 'https://web-api.ikea.com/dimma/assets/geomagical/69484806/PS01_S01_NV_01/simple/glb_draco/0229e9ef62f2d9b7b754e0f00a6fff89-G-69484806-d0cdc207af2b85608ab64ba38df9b679d4916928-simple+draco.glb', 'price': 43990, 'hasOffer': False, 'offerStartDate': None, 'offerEndDate': None, 'discountPercentage': None, 'discountedPrice': None, 'brandId': '7e94f147-004e-4886-8a60-a9f3c98ad1d5', 'categoryId': '3e93f147-004e-4886-8a60-a9f3c98ad1d3', 'styleTypeId': '8e94f147-004e-4886-8a60-a9f3c98ad1d3', 'colorId': '9e94f147-004e-4886-8a60-a9f3c98ad1d9'}\n",
      "{'description': 'light beige three-seat sofa'}\n"
     ]
    }
   ],
   "source": [
    "with open(\"./data/Furniture.json\", 'r', encoding='utf-8-sig') as f:\n",
    "    furniture = json.load(f)\n",
    "\n",
    "with open(\"./data/description.json\", 'r') as f:\n",
    "    description = json.load(f)\n",
    "\n",
    "print(furniture[20])\n",
    "print(description[20])"
   ]
  },
  {
   "cell_type": "code",
   "execution_count": 5,
   "metadata": {},
   "outputs": [
    {
     "data": {
      "text/plain": [
       "'light beige three-seat sofa'"
      ]
     },
     "execution_count": 5,
     "metadata": {},
     "output_type": "execute_result"
    }
   ],
   "source": [
    "description[20][\"description\"]"
   ]
  },
  {
   "cell_type": "code",
   "execution_count": 6,
   "metadata": {},
   "outputs": [],
   "source": [
    "import re\n",
    "\n",
    "nlp = spacy.load(\"en_core_web_sm\")\n",
    "\n",
    "def preprocess_text(text):\n",
    "    # Remove punctuation\n",
    "    text = re.sub(r'[^\\w\\s]', ' ', text)\n",
    "    # Remove extra spaces\n",
    "    text = re.sub(r'\\s+', ' ', text).strip()\n",
    "\n",
    "    doc = nlp(text.lower())\n",
    "    tokens = [\n",
    "        token.lemma_ for token in doc\n",
    "    ]\n",
    "    return \" \".join(tokens)"
   ]
  },
  {
   "cell_type": "code",
   "execution_count": 7,
   "metadata": {},
   "outputs": [
    {
     "data": {
      "text/plain": [
       "'light beige three seat sofa'"
      ]
     },
     "execution_count": 7,
     "metadata": {},
     "output_type": "execute_result"
    }
   ],
   "source": [
    "for raw in description:\n",
    "    raw[\"description\"] = preprocess_text(raw[\"description\"])\n",
    "\n",
    "description[20][\"description\"]"
   ]
  },
  {
   "cell_type": "code",
   "execution_count": 8,
   "metadata": {},
   "outputs": [
    {
     "name": "stderr",
     "output_type": "stream",
     "text": [
      "Using a slow image processor as `use_fast` is unset and a slow processor was saved with this model. `use_fast=True` will be the default behavior in v4.52, even if the model was saved with a slow processor. This will result in minor differences in outputs. You'll still be able to use a slow processor with `use_fast=False`.\n"
     ]
    }
   ],
   "source": [
    "import torch\n",
    "from PIL import Image\n",
    "import torch.nn.functional as F\n",
    "from transformers import CLIPProcessor, CLIPModel\n",
    "\n",
    "# load the feature extraction models\n",
    "MODEL_PATH = \"./models/clip_model/\"\n",
    "model = CLIPModel.from_pretrained(MODEL_PATH)\n",
    "processor = CLIPProcessor.from_pretrained(MODEL_PATH)"
   ]
  },
  {
   "cell_type": "code",
   "execution_count": 9,
   "metadata": {},
   "outputs": [
    {
     "data": {
      "text/plain": [
       "['white dressing table with mirror and drawer',\n",
       " 'black brown desk with storage drawer',\n",
       " 'white dressing table with mirror and glass top',\n",
       " 'white and turquoise storage unit with bin',\n",
       " 'white storage crate with wheel',\n",
       " 'white shelf unit with open compartment',\n",
       " 'toy storage box with wheel',\n",
       " 'multicolor storage bag with forest animal print',\n",
       " 'white and red storage unit with drawer',\n",
       " 'pine wood bed frame',\n",
       " 'wall mount dollhouse shelf',\n",
       " 'green and white storage box',\n",
       " 'white chest with two drawer',\n",
       " 'white storage unit with box',\n",
       " 'turquoise storage unit with compartment',\n",
       " 'white bedside table with shelf',\n",
       " 'white and pine reversible bed',\n",
       " 'light wood storage unit with green gray box',\n",
       " 'grey and turquoise three seat sofa',\n",
       " 'beige and grey three seat sofa',\n",
       " 'light beige three seat sofa',\n",
       " 'light beige three seat sofa with chaise',\n",
       " 'yellow wing chair',\n",
       " 'white desk with drawer',\n",
       " 'dark grey desk',\n",
       " 'black brown desk',\n",
       " 'black and blue desk',\n",
       " 'light grey office chair',\n",
       " 'dark grey office chair',\n",
       " 'anthracite and red desk',\n",
       " 'black brown desk',\n",
       " 'white desk',\n",
       " 'white and anthracite desk',\n",
       " 'grey and black office chair',\n",
       " 'yellow brown and black office chair',\n",
       " 'black office chair',\n",
       " 'beige office chair',\n",
       " 'grey swivel chair',\n",
       " 'white swivel chair',\n",
       " 'black and red swivel chair',\n",
       " 'white and dark blue swivel chair',\n",
       " 'white and light grey swivel chair',\n",
       " 'light beige armchair',\n",
       " 'grey and turquoise armchair',\n",
       " 'black folding chair',\n",
       " 'brown rock chair with light beige cushion',\n",
       " 'brown rock chair with black cushion',\n",
       " 'brown rock chair with dark grey cushion',\n",
       " 'brown armchair with light beige cushion',\n",
       " 'brown armchair with black cushion',\n",
       " 'brown armchair with dark grey cushion',\n",
       " 'red brown chair',\n",
       " 'black chair with dark grey cushion',\n",
       " 'olive green easy chair',\n",
       " 'light grey easy chair',\n",
       " 'dark grey easy chair',\n",
       " 'black chair',\n",
       " 'blue chair',\n",
       " 'white chair',\n",
       " 'white folding chair',\n",
       " 'red folding chair',\n",
       " 'black bar stool with backrest',\n",
       " 'light green armchair',\n",
       " 'light brown and pink armchair',\n",
       " 'dark grey armchair',\n",
       " 'blue armchair',\n",
       " 'black easy chair with oak veneer',\n",
       " 'white easy chair with oak veneer',\n",
       " 'black chair with black leg',\n",
       " 'black chair with white leg',\n",
       " 'black chair with chrome leg',\n",
       " 'white chair',\n",
       " 'red and white chair',\n",
       " 'black chair',\n",
       " 'white round table',\n",
       " 'acacia wood table',\n",
       " 'anthracite table',\n",
       " 'white shelve unit',\n",
       " 'black brown shelving unit',\n",
       " 'white shelve unit with insert',\n",
       " 'black brown shelve unit with insert',\n",
       " 'white shelve unit with door and drawer',\n",
       " 'white cabinet with foot',\n",
       " 'walnut effect cabinet with foot',\n",
       " 'white light grey and blue cabinet with foot',\n",
       " 'white and walnut effect cabinet with foot',\n",
       " 'white wall mount shelve unit',\n",
       " 'walnut effect wall cabinet with door',\n",
       " 'white wall cabinet with glass door',\n",
       " 'light grey and blue wall cabinet with glass door',\n",
       " 'brown and walnut effect wall cabinet with glass door',\n",
       " 'dark grey wall cabinet with glass door',\n",
       " 'white shelve unit',\n",
       " 'black brown shelving unit',\n",
       " 'white cabinet with four compartment',\n",
       " 'brown and walnut effect cabinet with four compartment',\n",
       " 'white wardrobe with two door',\n",
       " 'white wardrobe with three door',\n",
       " 'white wardrobe with two door and three drawer',\n",
       " 'brown wardrobe with two door and three drawer',\n",
       " 'white and white wardrobe',\n",
       " 'dark grey wardrobe',\n",
       " 'light beige wardrobe',\n",
       " 'white bed frame',\n",
       " 'grey bed frame',\n",
       " 'grey bed frame',\n",
       " 'white bed frame',\n",
       " 'dark grey upholstered bed frame',\n",
       " 'dark grey ottoman bed',\n",
       " 'beige ottoman bed',\n",
       " 'dark grey and black sofa bed',\n",
       " 'light grey two seat sofa bed',\n",
       " 'bright green two seat sofa bed',\n",
       " 'dark grey two seat sofa bed',\n",
       " 'yellow two seat sofa bed',\n",
       " 'white chest of six drawer',\n",
       " 'black brown chest of six drawer',\n",
       " 'light beige chest of three drawer',\n",
       " 'brown chest of six drawer',\n",
       " 'white chest of five drawer',\n",
       " 'black brown chest of five drawer',\n",
       " 'white chest of three drawer',\n",
       " 'brown chest of four drawer',\n",
       " 'white chest of four drawer',\n",
       " 'black brown chest of two drawer',\n",
       " 'white chest of two drawer',\n",
       " 'brown chest of six drawer',\n",
       " 'brown chest of four drawer',\n",
       " 'white chest of four drawer',\n",
       " 'white chest of three drawer',\n",
       " 'black brown chest of three drawer',\n",
       " 'white chest of six drawer',\n",
       " 'black brown chest of six drawer',\n",
       " 'white chest of six drawer with mirror',\n",
       " 'brown chest of three drawer',\n",
       " 'white chest of three drawer',\n",
       " 'black bedside table',\n",
       " 'brown bedside table',\n",
       " 'white bedside table',\n",
       " 'beige bedside table',\n",
       " 'white bedside table',\n",
       " 'white chest of two drawer',\n",
       " 'black brown chest of two drawer',\n",
       " 'white bedside table with drawer and shelf',\n",
       " 'grey bedside table with drawer and shelf',\n",
       " 'anthracite metal cabinet',\n",
       " 'grey metal cabinet',\n",
       " 'anthracite bedside table',\n",
       " 'brown bedside table',\n",
       " 'white bedside table',\n",
       " 'walnut veneer bedside table',\n",
       " 'white wall cabinet with two drawer',\n",
       " 'walnut effect wall cabinet with two drawer',\n",
       " 'light beige bedside table',\n",
       " 'white stain bedside table',\n",
       " 'black brown bedside table',\n",
       " 'pine stool with storage',\n",
       " 'white shelve unit',\n",
       " 'white cabinet with door',\n",
       " 'white glass door cabinet',\n",
       " 'white bookcase with door',\n",
       " 'black oak effect bookcase with door',\n",
       " 'brown walnut effect bookcase with door',\n",
       " 'white storage unit',\n",
       " 'brown and walnut effect cabinet with two door and shelf',\n",
       " 'white cabinet with two door and shelf',\n",
       " 'white bookcase with glass door',\n",
       " 'brown walnut effect bookcase with glass door',\n",
       " 'white sideboard',\n",
       " 'white stain glass door cabinet with three drawer',\n",
       " 'grey green glass door cabinet with three drawer',\n",
       " 'black brown glass door cabinet with three drawer',\n",
       " 'white bookcase',\n",
       " 'black oak effect bookcase with glass door',\n",
       " 'brown walnut effect bookcase with glass door',\n",
       " 'white cabinet with door',\n",
       " 'black and blue cabinet with door',\n",
       " 'black sideboard',\n",
       " 'dark grey two seat sofa',\n",
       " 'medium blue two seat sofa',\n",
       " 'dark grey two seat sofa',\n",
       " 'beige two seat sofa',\n",
       " 'grey and black two seat sofa',\n",
       " 'light blue two seat sofa',\n",
       " 'black and grey two seat sofa',\n",
       " 'light grey two seat sofa',\n",
       " 'grey and turquoise two seat sofa',\n",
       " 'beige and grey two seat sofa',\n",
       " 'anthracite two seat sofa',\n",
       " 'light beige two seat sofa',\n",
       " 'dark grey two seat sofa with wood leg',\n",
       " 'light green two seat sofa with wood leg',\n",
       " 'dark blue two seat sofa with wood leg',\n",
       " 'grey modular sofa with headrest',\n",
       " 'dark yellow green modular sofa with headrest',\n",
       " 'grey and beige modular sofa with headrest',\n",
       " 'grey wing chair',\n",
       " 'light beige wing chair',\n",
       " 'dark grey wing chair',\n",
       " 'beige wing chair',\n",
       " 'dark green wing chair',\n",
       " 'dark grey footstool',\n",
       " 'yellow footstool',\n",
       " 'beige footstool',\n",
       " 'light beige footstool',\n",
       " 'dark green footstool',\n",
       " 'light green office chair with armrest',\n",
       " 'dark grey sit stand support',\n",
       " 'purple and black gaming chair',\n",
       " 'grey and red gaming chair',\n",
       " 'dark grey and grey gaming chair']"
      ]
     },
     "execution_count": 9,
     "metadata": {},
     "output_type": "execute_result"
    }
   ],
   "source": [
    "text_data = [raw[\"description\"] for raw in description]\n",
    "text_data"
   ]
  },
  {
   "cell_type": "code",
   "execution_count": 10,
   "metadata": {},
   "outputs": [
    {
     "data": {
      "text/plain": [
       "array([[-5.62656745e-02, -6.92713400e-03,  6.00755773e-03,\n",
       "         2.01919582e-03, -1.44139654e-03,  7.94158727e-02,\n",
       "         1.71957240e-02, -4.68089208e-02, -3.62257957e-02,\n",
       "        -3.75949107e-02,  2.66860388e-02, -3.58008780e-03,\n",
       "         2.72734687e-02,  4.32266071e-02, -3.12568527e-03,\n",
       "        -4.08369564e-02, -3.23890001e-02,  2.57849675e-02,\n",
       "         7.48147303e-03, -1.72776598e-02,  6.34028092e-02,\n",
       "        -2.30810568e-02,  3.78929190e-02, -1.63380653e-02,\n",
       "        -4.34620259e-03, -5.18042333e-02,  5.93704032e-03,\n",
       "         4.07038536e-03, -4.50178720e-02, -7.42789581e-02,\n",
       "        -5.66088706e-02,  4.50770408e-02,  3.16585302e-02,\n",
       "         4.89818491e-03, -1.01515196e-01, -2.24553626e-02,\n",
       "        -3.96826603e-02, -2.10840208e-03, -5.33078946e-02,\n",
       "        -6.55469112e-03,  2.34207194e-02,  3.63126844e-02,\n",
       "         8.88781040e-04,  2.18125675e-02,  5.19574098e-02,\n",
       "        -9.93722305e-03,  5.18378010e-03,  1.04417568e-02,\n",
       "         1.42575987e-02, -2.20211409e-02, -5.81601374e-02,\n",
       "        -2.54699774e-02,  2.62371153e-02,  5.91904204e-03,\n",
       "        -6.65368559e-03,  1.12424907e-03, -1.55653674e-02,\n",
       "         2.36668568e-02, -1.11629851e-02,  6.34791180e-02,\n",
       "        -3.55381817e-02, -4.99093309e-02,  2.81195343e-02,\n",
       "        -6.19994067e-02,  7.79092163e-02,  7.23557174e-02,\n",
       "         4.99045365e-02,  2.30088774e-02, -4.54381406e-02,\n",
       "        -4.23771888e-03, -3.49970371e-03,  3.53648216e-02,\n",
       "         1.43307354e-02, -6.27898797e-02, -3.11994180e-02,\n",
       "         4.93378155e-02, -4.10745516e-02,  3.43178064e-02,\n",
       "        -6.48709759e-02, -3.06088924e-02, -4.61936817e-02,\n",
       "         2.19384786e-02,  7.60751218e-02,  3.04741953e-02,\n",
       "        -4.35867310e-02,  1.93303805e-02, -5.41938609e-03,\n",
       "         4.59836386e-02, -1.00214377e-01,  5.71425222e-02,\n",
       "        -2.95908246e-02,  1.96429044e-02, -7.09580407e-02,\n",
       "         2.85511352e-02, -5.63749075e-02,  2.06497218e-03,\n",
       "        -1.22564090e-02,  1.13085434e-02,  3.46305445e-02,\n",
       "         2.11234367e-03,  1.68237754e-03,  4.87055033e-02,\n",
       "        -3.18978615e-02, -8.09908006e-03, -2.58200662e-03,\n",
       "        -2.42801923e-02,  1.51264835e-02, -3.11174411e-02,\n",
       "        -3.55997086e-02, -5.40059023e-02, -7.33662993e-02,\n",
       "         2.07784194e-02, -1.45420642e-03, -4.30153385e-02,\n",
       "        -7.56199332e-03,  4.90660267e-03,  1.59173855e-03,\n",
       "         6.30742013e-02, -5.60643077e-02,  4.39080819e-02,\n",
       "         3.52584571e-02, -1.29697189e-01, -4.49529141e-02,\n",
       "        -2.51705069e-02, -1.96304545e-02, -4.44871821e-02,\n",
       "        -2.23121159e-02, -1.82656031e-02, -3.16813774e-02,\n",
       "        -8.27070847e-02, -1.85884591e-02, -1.24921063e-02,\n",
       "        -7.37744477e-03,  3.49980742e-01, -2.02464964e-02,\n",
       "         5.47613390e-02, -3.30144987e-02,  1.47232227e-02,\n",
       "         2.37520132e-02, -3.42133418e-02,  1.82705149e-02,\n",
       "        -2.90901624e-02,  3.55800707e-03,  4.11017053e-02,\n",
       "        -1.55611681e-02, -2.21821629e-02, -8.00526980e-03,\n",
       "         4.27482240e-02,  5.57210520e-02, -1.92689467e-02,\n",
       "         6.55382813e-04, -7.98922926e-02, -7.46091129e-03,\n",
       "         3.23122405e-02, -2.12189984e-02, -5.88790630e-04,\n",
       "         3.05811744e-02, -3.13687697e-02,  2.39504967e-02,\n",
       "         2.67980271e-03,  5.14701568e-02, -5.56479581e-02,\n",
       "         2.79207788e-02, -1.66607965e-02, -4.31910045e-02,\n",
       "         2.30147801e-02,  1.00052860e-02, -3.35196257e-02,\n",
       "         7.86288530e-02, -7.98942372e-02, -8.63708835e-03,\n",
       "        -3.84689216e-03,  1.60994772e-02,  3.02957222e-02,\n",
       "         3.49758565e-02,  6.76732510e-02,  9.91108716e-02,\n",
       "         7.34038139e-03,  3.07266563e-02, -2.42685042e-02,\n",
       "        -1.58239361e-02,  1.16390525e-03, -7.40670711e-02,\n",
       "         6.15290478e-02, -2.65631564e-02,  2.34603845e-02,\n",
       "         1.75180268e-02,  5.68094142e-02, -1.56722125e-02,\n",
       "         5.16341859e-03,  1.61963317e-03,  3.96159664e-02,\n",
       "         1.46785164e-02, -2.64710896e-02, -2.94798966e-02,\n",
       "         2.46745031e-02,  2.80991551e-02,  3.05762123e-02,\n",
       "        -6.78342953e-02,  2.79377634e-03,  3.10576819e-02,\n",
       "         2.38810685e-02, -6.12195767e-02, -1.90110207e-02,\n",
       "        -5.14248572e-02,  6.31619198e-03,  1.32517163e-02,\n",
       "        -2.08247416e-02,  7.80537426e-02,  1.19777471e-02,\n",
       "         8.30323398e-02,  8.02221596e-02,  4.54312414e-02,\n",
       "        -1.99026801e-02,  2.54691318e-02,  1.45149836e-02,\n",
       "         4.69160676e-02, -9.26667545e-03,  5.84166273e-02,\n",
       "         6.93867281e-02,  5.93598150e-02, -1.46056851e-02,\n",
       "        -3.29705626e-02, -1.80913545e-02,  3.75906006e-02,\n",
       "        -1.75616946e-02, -3.53760608e-02, -2.05236562e-02,\n",
       "         5.81558887e-03,  4.56653945e-02,  6.67445129e-03,\n",
       "         8.58256686e-03, -1.11059295e-02,  8.53815228e-02,\n",
       "        -4.62384820e-02,  5.53342290e-02,  1.45368231e-03,\n",
       "        -5.56638930e-03, -2.21064258e-02, -2.72987261e-02,\n",
       "         2.14924244e-03,  8.36250838e-03,  7.13443663e-03,\n",
       "         2.69644172e-03, -3.17170136e-02,  8.99988934e-02,\n",
       "        -3.76317138e-03,  2.44227815e-02, -3.63669917e-03,\n",
       "         1.72927566e-02, -3.33507843e-02,  7.79991373e-02,\n",
       "        -2.46106945e-02, -4.76291440e-02, -2.14436464e-02,\n",
       "         3.62917548e-03, -2.32924847e-03,  3.91839119e-03,\n",
       "        -2.64284592e-02, -1.10904658e-02,  1.46717182e-03,\n",
       "        -5.27323373e-02, -8.14793780e-02,  4.54270728e-02,\n",
       "         3.66043523e-02,  4.00994066e-03, -5.53694256e-02,\n",
       "        -9.21836402e-03,  7.05966121e-03,  3.24240439e-02,\n",
       "         2.95085292e-02, -2.39647385e-02, -1.33617744e-02,\n",
       "         5.00168698e-03, -4.02426049e-02,  6.23613037e-03,\n",
       "        -6.17677672e-03,  1.02264462e-02, -3.13968435e-02,\n",
       "         2.85470579e-02,  1.01540901e-01,  4.80375253e-03,\n",
       "        -2.94978190e-02, -5.63025661e-03,  2.39583515e-02,\n",
       "        -4.44460623e-02, -2.13379841e-02,  3.55566368e-02,\n",
       "        -1.00245932e-02, -1.47195123e-02,  1.16078313e-02,\n",
       "         3.04585956e-02,  8.95409286e-02,  1.93122979e-02,\n",
       "        -7.82065385e-04,  1.10191153e-02, -4.69757244e-02,\n",
       "         3.53408721e-03, -6.13719085e-03,  1.46304285e-02,\n",
       "        -3.64029687e-03,  2.26671249e-02,  4.24031727e-02,\n",
       "         4.21687169e-03,  6.04622774e-02, -4.96888794e-02,\n",
       "         3.42393713e-03,  9.68664605e-03, -1.87244397e-02,\n",
       "        -4.61000092e-02, -5.29409014e-02,  1.03202075e-01,\n",
       "         3.50779265e-01, -5.98164387e-02, -4.63126749e-02,\n",
       "         6.10145554e-03,  1.23549039e-02, -1.10428687e-02,\n",
       "         4.58193384e-02, -7.96442628e-02,  4.34165373e-02,\n",
       "         3.34581845e-02,  3.32238413e-02,  1.40994079e-02,\n",
       "        -7.94289187e-02,  1.58672854e-02,  1.83845405e-02,\n",
       "        -3.23832333e-02,  2.61425115e-02, -2.58528683e-02,\n",
       "         2.83242501e-02,  2.92934012e-03, -8.07521679e-03,\n",
       "        -4.22084779e-02,  7.15709776e-02, -1.45238070e-02,\n",
       "        -8.00776295e-04,  4.57075946e-02,  8.62666816e-02,\n",
       "        -1.85918137e-02,  1.72289985e-03,  1.22233750e-02,\n",
       "         4.80861291e-02,  2.48802872e-03,  6.34385943e-02,\n",
       "        -7.26998225e-02,  4.65597538e-03,  3.57645042e-02,\n",
       "        -2.58397050e-02, -3.57182734e-02, -8.05962645e-03,\n",
       "        -5.12197390e-02, -7.22899064e-02, -2.89110187e-02,\n",
       "        -7.21993968e-02, -7.98045248e-02, -2.62183920e-02,\n",
       "         2.83662751e-02, -1.11090355e-02, -2.92347651e-02,\n",
       "        -4.08514626e-02,  3.64666432e-02,  1.11806160e-03,\n",
       "        -3.17547172e-02, -2.07613017e-02, -3.35101299e-02,\n",
       "         1.42281139e-02, -1.37956887e-02, -4.38797139e-02,\n",
       "         2.08550654e-02,  2.17446554e-02,  2.26953123e-02,\n",
       "         4.16646041e-02,  4.05676477e-02, -1.90606415e-02,\n",
       "         4.93121184e-02,  1.04874745e-02, -3.89860384e-02,\n",
       "         1.75336357e-02, -6.68947771e-02, -1.59951542e-02,\n",
       "        -1.64403804e-02,  4.17852551e-02,  2.28189137e-02,\n",
       "         2.81618852e-02, -2.16499716e-02,  1.64719846e-03,\n",
       "        -2.86585819e-02,  1.98992342e-02,  2.46696752e-02,\n",
       "        -7.44711757e-02,  2.34454088e-02, -1.86538342e-02,\n",
       "         6.99506840e-03,  6.89084223e-03,  1.90133583e-02,\n",
       "         2.35139788e-03, -3.34065892e-02,  5.87112317e-03,\n",
       "         2.78261285e-02, -1.05305240e-02,  2.27384716e-02,\n",
       "         7.98934922e-02, -3.52591202e-02, -2.21332870e-02,\n",
       "         1.42070837e-02,  3.64403017e-02, -1.65969282e-02,\n",
       "        -2.42348411e-04,  6.00039959e-02, -1.50215225e-02,\n",
       "        -2.47978289e-02,  3.79596837e-02,  3.14055756e-02,\n",
       "         1.87120158e-02,  5.79520885e-04, -3.90163548e-02,\n",
       "        -4.50210087e-02, -1.86268445e-02, -4.32099961e-02,\n",
       "        -6.86217770e-02,  4.33451543e-03,  3.44114602e-02,\n",
       "        -8.29295740e-02, -1.00335469e-02, -3.42013016e-02,\n",
       "         4.26437072e-02, -3.97416838e-02, -8.94714519e-03,\n",
       "        -6.41407724e-03, -3.41734402e-02, -1.87428109e-02,\n",
       "         5.49570024e-02, -2.45317188e-03,  6.40598265e-03,\n",
       "         3.04411221e-02,  5.38306823e-03,  6.24087565e-02,\n",
       "         2.85520554e-02, -6.24702089e-02, -9.72380582e-03,\n",
       "        -2.18789671e-02, -2.35635843e-02,  7.28614815e-03,\n",
       "        -3.06951795e-02, -2.95583084e-02, -1.89233422e-02,\n",
       "         2.97930278e-02, -3.29736024e-02,  8.38180259e-02,\n",
       "        -4.78771925e-02,  5.35551109e-04,  1.39488839e-02,\n",
       "         2.07675211e-02,  1.83327291e-02, -1.09655261e-02,\n",
       "         1.90577023e-02,  4.27084267e-02,  2.09443108e-03,\n",
       "         1.10901822e-03, -3.01573388e-02,  1.87190343e-02,\n",
       "         1.77540407e-02,  4.54006307e-02,  5.49289659e-02,\n",
       "         3.36415507e-02,  1.54547868e-02, -1.25705041e-02,\n",
       "        -7.01100100e-03,  5.25724702e-02,  4.71974313e-02,\n",
       "         3.34011391e-02, -2.49010306e-02,  3.73528004e-02,\n",
       "         9.29853227e-03,  8.85044131e-03,  1.57089103e-02,\n",
       "        -2.27469805e-04,  2.47212150e-03,  1.64093692e-02,\n",
       "        -3.71423410e-03,  2.55001057e-02,  2.64966134e-02,\n",
       "         3.64422686e-02, -1.93526559e-02, -4.76896055e-02,\n",
       "         3.16478275e-02, -5.48760146e-02, -3.62298451e-02,\n",
       "         1.61440410e-02, -1.65739786e-02,  1.38127385e-02,\n",
       "         3.44278291e-02,  1.53760388e-01,  6.39114678e-02,\n",
       "        -3.82404923e-02,  1.92849878e-02, -6.82989433e-02,\n",
       "         2.63492037e-02, -2.12466642e-02, -5.79478517e-02,\n",
       "         1.42514817e-02,  2.24367175e-02,  3.62956226e-02,\n",
       "         1.06265217e-01,  2.68502552e-02, -1.24995895e-02,\n",
       "         2.18052864e-02,  1.49048157e-02,  5.20722084e-02,\n",
       "        -1.29773049e-02, -6.79134727e-02]], dtype=float32)"
      ]
     },
     "execution_count": 10,
     "metadata": {},
     "output_type": "execute_result"
    }
   ],
   "source": [
    "embedding_vector = []\n",
    "\n",
    "for elm in description:\n",
    "    text = elm['description']\n",
    "    # Preprocess text for CLIP\n",
    "    input = processor(text=text, return_tensors=\"pt\")[\"input_ids\"]\n",
    "\n",
    "    with torch.no_grad():\n",
    "        text_features = model.get_text_features(input)\n",
    "\n",
    "    # convert the features to unit vector\n",
    "    # cosine similarity only care about the angle between the feature vectors\n",
    "    text_features = F.normalize(text_features, dim=-1)\n",
    "    embedding_vector.append(text_features.cpu().numpy())\n",
    "\n",
    "embedding_vector[0]"
   ]
  },
  {
   "cell_type": "code",
   "execution_count": 11,
   "metadata": {},
   "outputs": [
    {
     "data": {
      "text/plain": [
       "(211, 1, 512)"
      ]
     },
     "execution_count": 11,
     "metadata": {},
     "output_type": "execute_result"
    }
   ],
   "source": [
    "embedding_vector = np.array(embedding_vector).astype(np.float32)\n",
    "embedding_vector.shape"
   ]
  },
  {
   "cell_type": "code",
   "execution_count": 12,
   "metadata": {},
   "outputs": [
    {
     "data": {
      "text/plain": [
       "(211, 512)"
      ]
     },
     "execution_count": 12,
     "metadata": {},
     "output_type": "execute_result"
    }
   ],
   "source": [
    "embedding_vector = embedding_vector.squeeze(axis=1)\n",
    "embedding_vector.shape"
   ]
  },
  {
   "cell_type": "code",
   "execution_count": 13,
   "metadata": {},
   "outputs": [],
   "source": [
    "from dotenv import load_dotenv\n",
    "import os\n",
    "load_dotenv()\n",
    "\n",
    "QDRANT_HOST = os.environ[\"QDRANT_HOST\"]\n",
    "QDRANT_API_KEY = os.environ[\"QDRANT_API_KEY\"]\n",
    "client = QdrantClient(\n",
    "    url=QDRANT_HOST,\n",
    "    api_key=QDRANT_API_KEY,\n",
    "    timeout=60.0\n",
    ")"
   ]
  },
  {
   "cell_type": "code",
   "execution_count": 14,
   "metadata": {},
   "outputs": [
    {
     "name": "stderr",
     "output_type": "stream",
     "text": [
      "/tmp/ipykernel_12804/3742037790.py:3: DeprecationWarning: `recreate_collection` method is deprecated and will be removed in the future. Use `collection_exists` to check collection existence and `create_collection` instead.\n",
      "  client.recreate_collection(\n"
     ]
    },
    {
     "data": {
      "text/plain": [
       "True"
      ]
     },
     "execution_count": 14,
     "metadata": {},
     "output_type": "execute_result"
    }
   ],
   "source": [
    "collection_name = \"text_features\"\n",
    "\n",
    "client.recreate_collection(\n",
    "    collection_name=collection_name,\n",
    "    vectors_config=VectorParams(size=512, distance=Distance.COSINE)\n",
    ")"
   ]
  },
  {
   "cell_type": "code",
   "execution_count": 15,
   "metadata": {},
   "outputs": [],
   "source": [
    "# image_urls = {raw['id']:raw['pictureUrl'] for raw in furniture}\n",
    "# image_urls"
   ]
  },
  {
   "cell_type": "code",
   "execution_count": 16,
   "metadata": {},
   "outputs": [
    {
     "data": {
      "text/plain": [
       "UpdateResult(operation_id=0, status=<UpdateStatus.COMPLETED: 'completed'>)"
      ]
     },
     "execution_count": 16,
     "metadata": {},
     "output_type": "execute_result"
    }
   ],
   "source": [
    "points = []\n",
    "\n",
    "for idx, (text, feature) in enumerate(zip(text_data, embedding_vector)):\n",
    "    points.append(\n",
    "        PointStruct(\n",
    "            id=idx,\n",
    "            vector=feature.tolist()\n",
    "        )\n",
    "    )\n",
    "\n",
    "client.upsert(collection_name=collection_name, points=points)"
   ]
  },
  {
   "cell_type": "code",
   "execution_count": 17,
   "metadata": {},
   "outputs": [
    {
     "name": "stderr",
     "output_type": "stream",
     "text": [
      "/tmp/ipykernel_12804/1393974746.py:10: DeprecationWarning: `search` method is deprecated and will be removed in the future. Use `query_points` instead.\n",
      "  search_result = client.search(\n"
     ]
    }
   ],
   "source": [
    "query = \"swivel chair\"\n",
    "\n",
    "input = processor(text=query, return_tensors=\"pt\")[\"input_ids\"]\n",
    "\n",
    "with torch.no_grad():\n",
    "    query_features = model.get_text_features(input)\n",
    "\n",
    "query_features = F.normalize(query_features, dim=-1)\n",
    "\n",
    "search_result = client.search(\n",
    "    collection_name=collection_name,\n",
    "    query_vector=query_features[0].tolist(),\n",
    "    limit=10\n",
    ")"
   ]
  },
  {
   "cell_type": "code",
   "execution_count": 20,
   "metadata": {},
   "outputs": [
    {
     "name": "stdout",
     "output_type": "stream",
     "text": [
      "Score: 0.92210555\n",
      "ID: 38\n",
      "Description: https://www.ikea.com/in/en/images/products/skruvsta-swivel-chair-ysane-white__0724712_pe734595_s5.jpg?f=u\n",
      "--------------------\n",
      "Score: 0.89243877\n",
      "ID: 37\n",
      "Description: https://www.ikea.com/in/en/images/products/skruvsta-swivel-chair-vissle-grey__0724705_pe734587_s5.jpg?f=u\n",
      "--------------------\n",
      "Score: 0.8576086\n",
      "ID: 56\n",
      "Description: https://www.ikea.com/in/en/images/products/teodores-chair-black__1114240_pe871696_s5.jpg?f=u\n",
      "--------------------\n",
      "Score: 0.8576086\n",
      "ID: 73\n",
      "Description: https://www.ikea.com/in/en/images/products/adde-chair-black__0728277_pe736167_s5.jpg?f=u\n",
      "--------------------\n",
      "Score: 0.85078776\n",
      "ID: 35\n",
      "Description: https://www.ikea.com/in/en/images/products/flintan-office-chair-with-armrests-black__1007241_pe825960_s5.jpg?f=u\n",
      "--------------------\n",
      "Score: 0.8424226\n",
      "ID: 36\n",
      "Description: https://www.ikea.com/in/en/images/products/flintan-office-chair-with-armrests-beige__1007238_pe825958_s5.jpg?f=u\n",
      "--------------------\n",
      "Score: 0.83650994\n",
      "ID: 71\n",
      "Description: https://www.ikea.com/in/en/images/products/adde-chair-white__0728280_pe736170_s5.jpg?f=u\n",
      "--------------------\n",
      "Score: 0.83650994\n",
      "ID: 58\n",
      "Description: https://www.ikea.com/in/en/images/products/teodores-chair-white__0727344_pe735616_s5.jpg?f=u\n",
      "--------------------\n",
      "Score: 0.83483166\n",
      "ID: 42\n",
      "Description: https://www.ikea.com/in/en/images/products/ekenaeset-armchair-kilanda-light-beige__1109687_pe870153_s5.jpg?f=u\n",
      "--------------------\n",
      "Score: 0.8304151\n",
      "ID: 69\n",
      "Description: https://www.ikea.com/in/en/images/products/lidas-chair-black-sefast-white__1167052_pe891354_s5.jpg?f=u\n",
      "--------------------\n"
     ]
    }
   ],
   "source": [
    "for hit in search_result:\n",
    "    print(\"Score:\", hit.score)\n",
    "    print(\"ID:\", hit.id)\n",
    "    print(\"Description:\", furniture[hit.id][\"pictureUrl\"])\n",
    "    print(\"-\"*20)"
   ]
  }
 ],
 "metadata": {
  "kernelspec": {
   "display_name": "SafeBlur-AI",
   "language": "python",
   "name": "python3"
  },
  "language_info": {
   "codemirror_mode": {
    "name": "ipython",
    "version": 3
   },
   "file_extension": ".py",
   "mimetype": "text/x-python",
   "name": "python",
   "nbconvert_exporter": "python",
   "pygments_lexer": "ipython3",
   "version": "3.11.11"
  },
  "orig_nbformat": 4
 },
 "nbformat": 4,
 "nbformat_minor": 2
}
